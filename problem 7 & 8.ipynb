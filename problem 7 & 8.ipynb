{
 "cells": [
  {
   "cell_type": "code",
   "execution_count": 33,
   "metadata": {},
   "outputs": [],
   "source": [
    "import numpy as np\n",
    "import pandas as pd\n",
    "import random as rand\n",
    "import matplotlib.pyplot as plt\n",
    "from scipy.stats import norm\n",
    "#x is duration, y is wait\n",
    "df = pd.DataFrame({\n",
    "    1: [8,2],\n",
    "    2: [5,5],\n",
    "    3: [9,1],\n",
    "    4: [4,6],\n",
    "    5: [7,3]\n",
    "})\n",
    "df = df.T\n",
    "\n",
    "guess = {\n",
    "    'theta': [0.6,0.5],\n",
    "    'tau': [0.7,0.3]\n",
    "}\n",
    "\n",
    "X=df.as_matrix()\n"
   ]
  },
  {
   "cell_type": "code",
   "execution_count": 34,
   "metadata": {},
   "outputs": [],
   "source": [
    "tau = guess['tau']\n",
    "theta = guess['theta']\n",
    "mu = []\n",
    "mu.append(theta[0] * 10)\n",
    "mu.append(theta[1] * 10)\n",
    "sigmaSquared = [0,0]"
   ]
  },
  {
   "cell_type": "code",
   "execution_count": 37,
   "metadata": {},
   "outputs": [],
   "source": [
    "p = np.empty(shape=[2,20])"
   ]
  },
  {
   "cell_type": "code",
   "execution_count": 38,
   "metadata": {},
   "outputs": [],
   "source": [
    "def f(Xi,thetaj):\n",
    "    f_j = Xi/10 * np.power(thetaj,Xi) * np.power((1-thetaj),(10-Xi))\n",
    "    return f_j"
   ]
  },
  {
   "cell_type": "code",
   "execution_count": 39,
   "metadata": {},
   "outputs": [],
   "source": [
    "def p_ji(j,i,tau,theta):\n",
    "    num = tau[j]*f(X[i][0],theta[j])\n",
    "    denom = tau[0]*f(X[i][0],theta[0]) + tau[1]*f(X[i][0],theta[1])\n",
    "    return (num/denom)"
   ]
  },
  {
   "cell_type": "code",
   "execution_count": 43,
   "metadata": {},
   "outputs": [],
   "source": [
    "def expectation(tau,mu):\n",
    "    theta[0] = mu[0] / 10\n",
    "    theta[1] = mu[1] / 10\n",
    "    for j in range(0,2):\n",
    "        for i in range(0,5):\n",
    "            p[j,i] =p_ji(j,i,tau,theta)\n",
    "    return p"
   ]
  },
  {
   "cell_type": "code",
   "execution_count": 44,
   "metadata": {},
   "outputs": [],
   "source": [
    "def maximization(p):                                                                                                                                \n",
    "    global sigmaSquared\n",
    "    global mu\n",
    "    global tau\n",
    "    for j in range(0,2):\n",
    "        for i in range(0,5):\n",
    "            tau[j] = 1/5 * (p[j][0]+p[j][1]+p[j][2]+p[j][3]+p[j][4])\n",
    "            mu[j] = (p[j][0]*X[0][0]+p[j][1]*X[1][0]+p[j][2]*X[2][0]+p[j][3]*X[3][0]+p[j][4]*X[4][0]) /(p[j][0]+p[j][1]+p[j][2]+p[j][3]+p[j][4])\n",
    "            sigmaSquared[j] = p[j][0]*np.power((X[2][0]-mu[j]),2)+p[j][1]*np.power((X[1][0]-mu[j]),2)+p[j][2]*np.power((X[2][0]-mu[j]),2)+p[j][3]*np.power((X[3][0]-mu[j]),2)+p[j][4]*np.power((X[4][0]-mu[j]),2) / (p[j][0]+p[j][1]+p[j][2]+p[j][3]+p[j][4])\n",
    "    return tau,mu"
   ]
  },
  {
   "cell_type": "code",
   "execution_count": 45,
   "metadata": {},
   "outputs": [
    {
     "name": "stdout",
     "output_type": "stream",
     "text": [
      "[[  8.93847440e-001   6.04605924e-001   9.36986059e-001   4.64071862e-001\n",
      "    8.26640609e-001   0.00000000e+000   0.00000000e+000   0.00000000e+000\n",
      "    0.00000000e+000   0.00000000e+000   0.00000000e+000   0.00000000e+000\n",
      "    0.00000000e+000   0.00000000e+000   0.00000000e+000   0.00000000e+000\n",
      "    0.00000000e+000   0.00000000e+000   0.00000000e+000   0.00000000e+000]\n",
      " [  1.06152560e-001   3.95394076e-001   6.30139408e-002   5.35928138e-001\n",
      "    1.73359391e-001   0.00000000e+000   0.00000000e+000   0.00000000e+000\n",
      "    0.00000000e+000   0.00000000e+000   0.00000000e+000   0.00000000e+000\n",
      "    0.00000000e+000   0.00000000e+000   0.00000000e+000   0.00000000e+000\n",
      "    2.12199579e-314   2.12199579e-314   0.00000000e+000   0.00000000e+000]]\n"
     ]
    },
    {
     "data": {
      "text/plain": [
       "2"
      ]
     },
     "execution_count": 45,
     "metadata": {},
     "output_type": "execute_result"
    }
   ],
   "source": [
    "#problem 7\n",
    "p = expectation(tau,mu)\n",
    "tau,mu = maximization(p)\n",
    "p = expectation(tau,mu)\n",
    "\n",
    "print(p)\n",
    "len(p)"
   ]
  },
  {
   "cell_type": "code",
   "execution_count": 46,
   "metadata": {
    "scrolled": true
   },
   "outputs": [
    {
     "name": "stdout",
     "output_type": "stream",
     "text": [
      "Before Training:\n",
      "tau:  [0.75928931534346722, 0.24071068465653284]\n",
      "mu  [6.9180088865265725, 5.5968839560718395]\n",
      "theta [0.69180088865265721, 0.55968839560718397]\n",
      "sigmaSquared:  [14.851372123075052, 4.2065910899397183]\n",
      "\n",
      "After Training:\n",
      "mu:  [7.9336764939844668, 5.1391659086947099]\n",
      "sigmaSquared:  [3.8461203907277692, 4.4295143240723487]\n",
      "tau:  [0.52275131788553197, 0.47724868211446803]\n",
      "theta:  [0.79336764939844673, 0.51391659086947095]\n"
     ]
    }
   ],
   "source": [
    "print(\"Before Training:\")\n",
    "print(\"tau: \", tau)\n",
    "print(\"mu \", mu)\n",
    "print(\"theta\", theta)\n",
    "print(\"sigmaSquared: \", sigmaSquared)\n",
    "for i in range(0,100):\n",
    "    p = expectation(tau,mu)\n",
    "    tau,mu = maximization(p)\n",
    "print(\"\\nAfter Training:\")\n",
    "print(\"mu: \", mu)\n",
    "print(\"sigmaSquared: \", sigmaSquared)\n",
    "print(\"tau: \",tau)\n",
    "theta[0] = mu[0]/10\n",
    "theta[1] = mu[1]/10\n",
    "print(\"theta: \", theta)"
   ]
  },
  {
   "cell_type": "code",
   "execution_count": 47,
   "metadata": {},
   "outputs": [
    {
     "name": "stdout",
     "output_type": "stream",
     "text": [
      "Before Training:\n",
      "tau:  [0.6, 0.4]\n",
      "mu  [5.0, 2.0]\n",
      "theta [0.5, 0.2]\n",
      "sigmaSquared:  [0, 0]\n",
      "\n",
      "After Training:\n",
      "mu:  [7.9334589543050038, 5.1388166520353851]\n",
      "sigmaSquared:  [3.8481923804804534, 4.4268239950079993]\n",
      "tau:  [0.52285165324304284, 0.47714834675695744]\n",
      "theta:  [0.79334589543050038, 0.51388166520353851]\n"
     ]
    }
   ],
   "source": [
    "# reiinitialization try #1\n",
    "tau = [0.6,0.4]\n",
    "theta = [0.5,0.2]\n",
    "mu =[]\n",
    "mu.append(theta[0] * 10)\n",
    "mu.append(theta[1] * 10)\n",
    "sigmaSquared = [0,0]\n",
    "print(\"Before Training:\")\n",
    "print(\"tau: \", tau)\n",
    "print(\"mu \", mu)\n",
    "print(\"theta\", theta)\n",
    "print(\"sigmaSquared: \", sigmaSquared)\n",
    "for i in range(0,50):\n",
    "    p = expectation(tau,mu)\n",
    "    tau,mu = maximization(p)\n",
    "print(\"\\nAfter Training:\")\n",
    "print(\"mu: \", mu)\n",
    "print(\"sigmaSquared: \", sigmaSquared)\n",
    "print(\"tau: \",tau)\n",
    "theta[0] = mu[0]/10\n",
    "theta[1] = mu[1]/10\n",
    "print(\"theta: \", theta)"
   ]
  },
  {
   "cell_type": "code",
   "execution_count": 26,
   "metadata": {},
   "outputs": [
    {
     "name": "stdout",
     "output_type": "stream",
     "text": [
      "Before Training:\n",
      "tau:  [0.9, 0.1]\n",
      "mu  [9.0, 9.0]\n",
      "theta [0.9, 0.9]\n",
      "sigmaSquared:  [0, 0]\n",
      "\n",
      "After Training:\n",
      "mu:  [6.5999998120325953, 6.600001691706642]\n",
      "sigmaSquared:  [18.788000221756882, 2.1159995432385275]\n",
      "tau:  [0.89999999999997771, 0.10000000000002236]\n",
      "theta:  [0.65999998120325953, 0.66000016917066417]\n"
     ]
    }
   ],
   "source": [
    "# reiinitialization try #2\n",
    "tau = [0.9,0.1]\n",
    "theta = [0.9,0.9]\n",
    "mu =[]\n",
    "mu.append(theta[0] * 10)\n",
    "mu.append(theta[1] * 10)\n",
    "sigmaSquared = [0,0]\n",
    "print(\"Before Training:\")\n",
    "print(\"tau: \", tau)\n",
    "print(\"mu \", mu)\n",
    "print(\"theta\", theta)\n",
    "print(\"sigmaSquared: \", sigmaSquared)\n",
    "for i in range(0,50):\n",
    "    p = expectation(tau,mu)\n",
    "    tau,mu = maximization(p)\n",
    "print(\"\\nAfter Training:\")\n",
    "print(\"mu: \", mu)\n",
    "print(\"sigmaSquared: \", sigmaSquared)\n",
    "print(\"tau: \",tau)\n",
    "theta[0] = mu[0]/10\n",
    "theta[1] = mu[1]/10\n",
    "print(\"theta: \", theta)"
   ]
  },
  {
   "cell_type": "code",
   "execution_count": 27,
   "metadata": {},
   "outputs": [
    {
     "name": "stdout",
     "output_type": "stream",
     "text": [
      "Before Training:\n",
      "tau:  [0.1, 0.9]\n",
      "mu  [3.0, 3.0]\n",
      "theta [0.3, 0.3]\n",
      "sigmaSquared:  [0, 0]\n",
      "\n",
      "After Training:\n",
      "mu:  [6.6000025933471029, 6.5999997118503222]\n",
      "sigmaSquared:  [2.1159992997946859, 18.788000339947398]\n",
      "tau:  [0.10000000000005256, 0.89999999999994751]\n",
      "theta:  [0.66000025933471029, 0.65999997118503217]\n"
     ]
    }
   ],
   "source": [
    "# reiinitialization try #3\n",
    "tau = [0.1,0.9]\n",
    "theta = [0.3,0.3]\n",
    "mu =[]\n",
    "mu.append(theta[0] * 10)\n",
    "mu.append(theta[1] * 10)\n",
    "sigmaSquared = [0,0]\n",
    "print(\"Before Training:\")\n",
    "print(\"tau: \", tau)\n",
    "print(\"mu \", mu)\n",
    "print(\"theta\", theta)\n",
    "print(\"sigmaSquared: \", sigmaSquared)\n",
    "for i in range(0,50):\n",
    "    p = expectation(tau,mu)\n",
    "    tau,mu = maximization(p)\n",
    "print(\"\\nAfter Training:\")\n",
    "print(\"mu: \", mu)\n",
    "print(\"sigmaSquared: \", sigmaSquared)\n",
    "print(\"tau: \",tau)\n",
    "theta[0] = mu[0]/10\n",
    "theta[1] = mu[1]/10\n",
    "print(\"theta: \", theta)"
   ]
  },
  {
   "cell_type": "code",
   "execution_count": 32,
   "metadata": {},
   "outputs": [
    {
     "name": "stdout",
     "output_type": "stream",
     "text": [
      "Before Training:\n",
      "tau:  [0.1, 0.9]\n",
      "mu  [1.0, 1.0]\n",
      "theta [0.1, 0.1]\n",
      "sigmaSquared:  [0, 0]\n",
      "\n",
      "After Training:\n",
      "mu:  [6.6000025933471029, 6.5999997118503222]\n",
      "sigmaSquared:  [2.1159992997946859, 18.788000339947398]\n",
      "tau:  [0.10000000000005256, 0.89999999999994751]\n",
      "theta:  [0.66000025933471029, 0.65999997118503217]\n"
     ]
    }
   ],
   "source": [
    "# reiinitialization try #4\n",
    "tau = [0.1,0.9]\n",
    "theta = [0.1,0.1]\n",
    "mu =[]\n",
    "mu.append(theta[0] * 10)\n",
    "mu.append(theta[1] * 10)\n",
    "sigmaSquared = [0,0]\n",
    "print(\"Before Training:\")\n",
    "print(\"tau: \", tau)\n",
    "print(\"mu \", mu)\n",
    "print(\"theta\", theta)\n",
    "print(\"sigmaSquared: \", sigmaSquared)\n",
    "for i in range(0,50):\n",
    "    p = expectation(tau,mu)\n",
    "    tau,mu = maximization(p)\n",
    "print(\"\\nAfter Training:\")\n",
    "print(\"mu: \", mu)\n",
    "print(\"sigmaSquared: \", sigmaSquared)\n",
    "print(\"tau: \",tau)\n",
    "theta[0] = mu[0]/10\n",
    "theta[1] = mu[1]/10\n",
    "print(\"theta: \", theta)"
   ]
  },
  {
   "cell_type": "code",
   "execution_count": 33,
   "metadata": {},
   "outputs": [
    {
     "name": "stdout",
     "output_type": "stream",
     "text": [
      "Before Training:\n",
      "tau:  [0.9, 0.1]\n",
      "mu  [9.0, 9.0]\n",
      "theta [0.9, 0.9]\n",
      "sigmaSquared:  [0, 0]\n",
      "\n",
      "After Training:\n",
      "mu:  [6.5999998120325953, 6.600001691706642]\n",
      "sigmaSquared:  [18.788000221756882, 2.1159995432385275]\n",
      "tau:  [0.89999999999997771, 0.10000000000002236]\n",
      "theta:  [0.65999998120325953, 0.66000016917066417]\n"
     ]
    }
   ],
   "source": [
    "# reiinitialization try #5\n",
    "tau = [0.9,0.1]\n",
    "theta = [0.9,0.9]\n",
    "mu =[]\n",
    "mu.append(theta[0] * 10)\n",
    "mu.append(theta[1] * 10)\n",
    "sigmaSquared = [0,0]\n",
    "print(\"Before Training:\")\n",
    "print(\"tau: \", tau)\n",
    "print(\"mu \", mu)\n",
    "print(\"theta\", theta)\n",
    "print(\"sigmaSquared: \", sigmaSquared)\n",
    "for i in range(0,50):\n",
    "    p = expectation(tau,mu)\n",
    "    tau,mu = maximization(p)\n",
    "print(\"\\nAfter Training:\")\n",
    "print(\"mu: \", mu)\n",
    "print(\"sigmaSquared: \", sigmaSquared)\n",
    "print(\"tau: \",tau)\n",
    "theta[0] = mu[0]/10\n",
    "theta[1] = mu[1]/10\n",
    "print(\"theta: \", theta)"
   ]
  }
 ],
 "metadata": {
  "kernelspec": {
   "display_name": "Python 3",
   "language": "python",
   "name": "python3"
  },
  "language_info": {
   "codemirror_mode": {
    "name": "ipython",
    "version": 3
   },
   "file_extension": ".py",
   "mimetype": "text/x-python",
   "name": "python",
   "nbconvert_exporter": "python",
   "pygments_lexer": "ipython3",
   "version": "3.6.2"
  }
 },
 "nbformat": 4,
 "nbformat_minor": 2
}
