{
 "cells": [
  {
   "cell_type": "code",
   "execution_count": 107,
   "metadata": {},
   "outputs": [],
   "source": [
    "from numpy import *\n",
    "import matplotlib.pyplot as plt\n",
    "X = [\n",
    "        [1.0,5.0],[1.25,5.35],[1.25,5.75],[1.5,6.25],[1.75,6.75],[2.0,6.5],[3.0,7.75],[3.5,8.25],[3.75,8.75],[3.95,9.1],\n",
    "        [4.0,8.5],[2.5,7.25],[2.25,7.75],[2.0,6.5],[2.75,8.25],[4.5,8.9],[9.0,5.0],[8.75,5.85],[9.0,6.25],\n",
    "        [8.0,7.0],[8.5,6.25],[8.5,6.75],[8.25,7.65],[7.0,8.25],[6.0,8.75],[5.5,8.25],[5.25,8.75],[4.9,8.75],\n",
    "        [5.0,8.5],[7.5,7.75],[7.75,8.25],[6.75,8.0],[6.25,8.25],[4.5,8.9],[5.0,1.0],[1.25,4.65],[1.25,4.25],\n",
    "        [1.5,3.75],[1.75,3.25],[2.0,3.5],[3.0,2.25],[3.5,1.75],[3.75,8.75],[3.95,0.9],[4.0,1.5],[2.5,2.75],\n",
    "        [2.25,2.25],[2.0,3.5],[2.75,1.75],[4.5,1.1],[5.0,9.0],[8.75,5.15],[8.0,2.25],[8.25,3.0],[8.5,4.75],\n",
    "        [8.5,4.25],[8.25,3.35],[7.0,1.75],[8.0,3.5],[6.0,1.25],[5.5,1.75],[5.25,1.25],[4.9,1.25],[5.0,1.5],\n",
    "        [7.5,2.25],[7.75,2.75],[6.75,2.0],[6.25,1.75],[4.5,1.1],[3.0,4.5],[7.0,4.5],[5.0,3.0],[4.0,3.35],\n",
    "        [6.0,3.35],[4.25,3.25],[5.75,3.25],[3.5,3.75],[6.5,3.75],[3.25,4.0],[6.75,4.0],[3.75,3.55],[6.25,3.55],\n",
    "        [4.75,3.05],[5.25,3.05],[4.5,3.15],[5.5,3.15],[4.0,6.5],[4.0,6.75],[4.0,6.25],[3.75,6.5],[4.25,6.5],[4.25,6.75],\n",
    "        [3.75,6.25],[6.0,6.5],[6.0,6.75],[6.0,6.25],[5.75,6.75],[5.75,6.25],[6.25,6.75],[6.25,6.25],[9.5,9.5],[2.5,9.5],\n",
    "        [1.0,8.0]\n",
    "    ]"
   ]
  },
  {
   "cell_type": "code",
   "execution_count": 109,
   "metadata": {},
   "outputs": [
    {
     "data": {
      "text/plain": [
       "49"
      ]
     },
     "execution_count": 109,
     "metadata": {},
     "output_type": "execute_result"
    }
   ],
   "source": [
    "len(unique(X))"
   ]
  },
  {
   "cell_type": "code",
   "execution_count": 120,
   "metadata": {},
   "outputs": [],
   "source": [
    "def DBSCAN(X, epsilon, m):\n",
    "    C = []\n",
    "    cn = -1\n",
    "    visited = []\n",
    "    outliers = []\n",
    "    for point in X:\n",
    "        if point not in visited:\n",
    "            visited.append(point)\n",
    "            neighbors = regionQuery(point,epsilon)\n",
    "            if(len(neighbors) < m):\n",
    "                outliers.append(point)\n",
    "            else:\n",
    "                C.append([])\n",
    "                cn += 1\n",
    "                expandCluster(point, neighbors, cn, C, epsilon, m, visited)\n",
    "    print(\"Number of clusters: \", len(C))\n",
    "    print(\"Number of outliers: \", len(outliers))\n",
    "    cmap = plt.cm.get_cmap('gist_ncar', len(C))\n",
    "    count = 0\n",
    "    for i in range(0,len(C)):\n",
    "#         cluster =  unique(C[i])\n",
    "        cluster = unique(C[i])\n",
    "        print(\"Cluster\", i, \":\", len(cluster), \" points\")\n",
    "        for point in cluster:\n",
    "            count += 1\n",
    "            plt.scatter(point[0],point[1],color = cmap(i))\n",
    "    plt.show()\n",
    "    count+=len(outliers)\n",
    "    print(count,\" points counted\")\n",
    "\n",
    "def unique(list):\n",
    "    newList = []\n",
    "    for array in list:\n",
    "        if array not in newList:\n",
    "            newList.append(array)\n",
    "    return newList"
   ]
  },
  {
   "cell_type": "code",
   "execution_count": 121,
   "metadata": {},
   "outputs": [
    {
     "data": {
      "text/plain": [
       "[[1, 1], [2.0, 2.0], [2.0, 2.1]]"
      ]
     },
     "execution_count": 121,
     "metadata": {},
     "output_type": "execute_result"
    }
   ],
   "source": [
    "unique([[1,1],[1,1],[2.0,2.0],[2.0,2.1],[2.0,2.0]])"
   ]
  },
  {
   "cell_type": "code",
   "execution_count": 122,
   "metadata": {},
   "outputs": [],
   "source": [
    "def expandCluster(point, neighbors, cn, C, eps, m, visited):\n",
    "    C[cn].append(point)\n",
    "    for p in neighbors:\n",
    "        if p not in visited:\n",
    "            visited.append(p)\n",
    "            neighbors2 = regionQuery(p, eps)\n",
    "            if len(neighbors2) >= m:\n",
    "                neighbors += neighbors2\n",
    "        if p not in (cluster for cluster in C):\n",
    "            C[cn].append(p)"
   ]
  },
  {
   "cell_type": "code",
   "execution_count": 123,
   "metadata": {},
   "outputs": [],
   "source": [
    "def regionQuery(P, eps):\n",
    "    neighbourPts = []\n",
    "    for point in X:\n",
    "        if sqrt(square(P[1] - point[1]) + square(P[0] - point[0]))<eps:\n",
    "            neighbourPts.append(point)\n",
    "    return neighbourPts"
   ]
  },
  {
   "cell_type": "code",
   "execution_count": 127,
   "metadata": {},
   "outputs": [
    {
     "name": "stdout",
     "output_type": "stream",
     "text": [
      "Number of clusters:  4\n",
      "Number of outliers:  5\n",
      "Cluster 0 : 64  points\n",
      "Cluster 1 : 17  points\n",
      "Cluster 2 : 7  points\n",
      "Cluster 3 : 7  points\n"
     ]
    },
    {
     "data": {
      "image/png": "[encoded data removed]",
      "text/plain": [
       "<matplotlib.figure.Figure at 0x111aa5fd0>"
      ]
     },
     "metadata": {},
     "output_type": "display_data"
    },
    {
     "name": "stdout",
     "output_type": "stream",
     "text": [
      "100  points counted\n"
     ]
    }
   ],
   "source": [
    "DBSCAN(X,1,5)"
   ]
  },
  {
   "cell_type": "code",
   "execution_count": 115,
   "metadata": {},
   "outputs": [],
   "source": [
    "for point in X:\n",
    "    plt.scatter(point[0],point[1],s=50)"
   ]
  },
  {
   "cell_type": "code",
   "execution_count": 116,
   "metadata": {},
   "outputs": [
    {
     "data": {
      "image/png": "[encoded data removed]",
      "text/plain": [
       "<matplotlib.figure.Figure at 0x1121a8cf8>"
      ]
     },
     "metadata": {},
     "output_type": "display_data"
    }
   ],
   "source": [
    "plt.show()"
   ]
  }
 ],
 "metadata": {
  "kernelspec": {
   "display_name": "Python 3",
   "language": "python",
   "name": "python3"
  },
  "language_info": {
   "codemirror_mode": {
    "name": "ipython",
    "version": 3
   },
   "file_extension": ".py",
   "mimetype": "text/x-python",
   "name": "python",
   "nbconvert_exporter": "python",
   "pygments_lexer": "ipython3",
   "version": "3.6.2"
  }
 },
 "nbformat": 4,
 "nbformat_minor": 2
}
