{
 "cells": [
  {
   "cell_type": "code",
   "execution_count": 400,
   "metadata": {},
   "outputs": [],
   "source": [
    "X = [\n",
    "        [1.0,5.0],[1.25,5.35],[1.25,5.75],[1.5,6.25],[1.75,6.75],[2.0,6.5],[3.0,7.75],[3.5,8.25],[3.75,8.75],[3.95,9.1],\n",
    "        [4.0,8.5],[2.5,7.25],[2.25,7.75],[2.0,6.5],[2.75,8.25],[4.5,8.9],[9.0,5.0],[8.75,5.85],[9.0,6.25],\n",
    "        [8.0,7.0],[8.5,6.25],[8.5,6.75],[8.25,7.65],[7.0,8.25],[6.0,8.75],[5.5,8.25],[5.25,8.75],[4.9,8.75],\n",
    "        [5.0,8.5],[7.5,7.75],[7.75,8.25],[6.75,8.0],[6.25,8.25],[4.5,8.9],[5.0,1.0],[1.25,4.65],[1.25,4.25],\n",
    "        [1.5,3.75],[1.75,3.25],[2.0,3.5],[3.0,2.25],[3.5,1.75],[3.75,8.75],[3.95,0.9],[4.0,1.5],[2.5,2.75],\n",
    "        [2.25,2.25],[2.0,3.5],[2.75,1.75],[4.5,1.1],[5.0,9.0],[8.75,5.15],[8.0,2.25],[8.25,3.0],[8.5,4.75],\n",
    "        [8.5,4.25],[8.25,3.35],[7.0,1.75],[8.0,3.5],[6.0,1.25],[5.5,1.75],[5.25,1.25],[4.9,1.25],[5.0,1.5],\n",
    "        [7.5,2.25],[7.75,2.75],[6.75,2.0],[6.25,1.75],[4.5,1.1],[3.0,4.5],[7.0,4.5],[5.0,3.0],[4.0,3.35],\n",
    "        [6.0,3.35],[4.25,3.25],[5.75,3.25],[3.5,3.75],[6.5,3.75],[3.25,4.0],[6.75,4.0],[3.75,3.55],[6.25,3.55],\n",
    "        [4.75,3.05],[5.25,3.05],[4.5,3.15],[5.5,3.15],[4.0,6.5],[4.0,6.75],[4.0,6.25],[3.75,6.5],[4.25,6.5],[4.25,6.75],\n",
    "        [3.75,6.25],[6.0,6.5],[6.0,6.75],[6.0,6.25],[5.75,6.75],[5.75,6.25],[6.25,6.75],[6.25,6.25],[9.5,9.5],[2.5,9.5],[1.0,8.0]\n",
    "    ]"
   ]
  },
  {
   "cell_type": "code",
   "execution_count": 401,
   "metadata": {},
   "outputs": [
    {
     "data": {
      "text/plain": [
       "[<__main__.Point at 0x112564b00>,\n",
       " <__main__.Point at 0x1125640b8>,\n",
       " <__main__.Point at 0x112564240>,\n",
       " <__main__.Point at 0x1125641d0>,\n",
       " <__main__.Point at 0x112564978>,\n",
       " <__main__.Point at 0x112564198>,\n",
       " <__main__.Point at 0x112564d68>,\n",
       " <__main__.Point at 0x111f121d0>,\n",
       " <__main__.Point at 0x111f12c50>,\n",
       " <__main__.Point at 0x111f12be0>,\n",
       " <__main__.Point at 0x111f128d0>,\n",
       " <__main__.Point at 0x111f12978>,\n",
       " <__main__.Point at 0x111f12dd8>,\n",
       " <__main__.Point at 0x111f12f60>,\n",
       " <__main__.Point at 0x111f12160>,\n",
       " <__main__.Point at 0x111f12400>,\n",
       " <__main__.Point at 0x111f12630>,\n",
       " <__main__.Point at 0x111f126d8>,\n",
       " <__main__.Point at 0x111f129b0>,\n",
       " <__main__.Point at 0x111f12fd0>,\n",
       " <__main__.Point at 0x111f122b0>,\n",
       " <__main__.Point at 0x111f12d30>,\n",
       " <__main__.Point at 0x111f12668>,\n",
       " <__main__.Point at 0x111f12b38>,\n",
       " <__main__.Point at 0x111f125c0>,\n",
       " <__main__.Point at 0x111f12390>,\n",
       " <__main__.Point at 0x111f12048>,\n",
       " <__main__.Point at 0x111f12128>,\n",
       " <__main__.Point at 0x111f12ac8>,\n",
       " <__main__.Point at 0x111f12f98>,\n",
       " <__main__.Point at 0x111f12898>,\n",
       " <__main__.Point at 0x111f12588>,\n",
       " <__main__.Point at 0x111f129e8>,\n",
       " <__main__.Point at 0x111f12b00>,\n",
       " <__main__.Point at 0x111f12358>,\n",
       " <__main__.Point at 0x111f12940>,\n",
       " <__main__.Point at 0x111f12e10>,\n",
       " <__main__.Point at 0x111f120b8>,\n",
       " <__main__.Point at 0x111f12198>,\n",
       " <__main__.Point at 0x111f12780>,\n",
       " <__main__.Point at 0x1116d5a20>,\n",
       " <__main__.Point at 0x11b86dba8>,\n",
       " <__main__.Point at 0x11b86d518>,\n",
       " <__main__.Point at 0x11b86ddd8>,\n",
       " <__main__.Point at 0x11b86d320>,\n",
       " <__main__.Point at 0x11b86dd68>,\n",
       " <__main__.Point at 0x11b86d400>,\n",
       " <__main__.Point at 0x11b86dfd0>,\n",
       " <__main__.Point at 0x11b86dc88>,\n",
       " <__main__.Point at 0x11b86da90>,\n",
       " <__main__.Point at 0x11b86dac8>,\n",
       " <__main__.Point at 0x11b86da20>,\n",
       " <__main__.Point at 0x11b86dc50>,\n",
       " <__main__.Point at 0x11b86dc18>,\n",
       " <__main__.Point at 0x11b86d630>,\n",
       " <__main__.Point at 0x11a0b5e80>,\n",
       " <__main__.Point at 0x11a0b5cc0>,\n",
       " <__main__.Point at 0x11a0b5550>,\n",
       " <__main__.Point at 0x11a0b5d30>,\n",
       " <__main__.Point at 0x11a0b5e10>,\n",
       " <__main__.Point at 0x11a0b5470>,\n",
       " <__main__.Point at 0x11a0b5860>,\n",
       " <__main__.Point at 0x11a0b5ef0>,\n",
       " <__main__.Point at 0x11a0b5be0>,\n",
       " <__main__.Point at 0x11a0b5dd8>,\n",
       " <__main__.Point at 0x11a0b5c88>,\n",
       " <__main__.Point at 0x11a0b5e48>,\n",
       " <__main__.Point at 0x1122d61d0>,\n",
       " <__main__.Point at 0x1122d6860>,\n",
       " <__main__.Point at 0x1122d6400>,\n",
       " <__main__.Point at 0x1122d6358>,\n",
       " <__main__.Point at 0x1122d6ef0>,\n",
       " <__main__.Point at 0x1122d6f60>,\n",
       " <__main__.Point at 0x1122d62b0>,\n",
       " <__main__.Point at 0x1122d6470>,\n",
       " <__main__.Point at 0x1122d69e8>,\n",
       " <__main__.Point at 0x1122d67f0>,\n",
       " <__main__.Point at 0x1122d64a8>,\n",
       " <__main__.Point at 0x1122d68d0>,\n",
       " <__main__.Point at 0x1122d6198>,\n",
       " <__main__.Point at 0x1122d6160>,\n",
       " <__main__.Point at 0x1122d6b38>,\n",
       " <__main__.Point at 0x1122d6518>,\n",
       " <__main__.Point at 0x1122d6208>,\n",
       " <__main__.Point at 0x1122d60f0>,\n",
       " <__main__.Point at 0x1122d6438>,\n",
       " <__main__.Point at 0x1122d6c88>,\n",
       " <__main__.Point at 0x1122d6be0>,\n",
       " <__main__.Point at 0x1122d6550>,\n",
       " <__main__.Point at 0x1122d6e48>,\n",
       " <__main__.Point at 0x1122d65f8>,\n",
       " <__main__.Point at 0x1122d6a90>,\n",
       " <__main__.Point at 0x1122d6c18>,\n",
       " <__main__.Point at 0x1122d6588>,\n",
       " <__main__.Point at 0x1122d6da0>,\n",
       " <__main__.Point at 0x1122d66a0>,\n",
       " <__main__.Point at 0x1122d6ba8>,\n",
       " <__main__.Point at 0x1122d65c0>,\n",
       " <__main__.Point at 0x1122d6a58>,\n",
       " <__main__.Point at 0x1122d6cc0>,\n",
       " <__main__.Point at 0x1122d69b0>,\n",
       " <__main__.Point at 0x1122d6240>,\n",
       " <__main__.Point at 0x1122d6278>]"
      ]
     },
     "execution_count": 401,
     "metadata": {},
     "output_type": "execute_result"
    }
   ],
   "source": [
    "newX = []\n",
    "for item in X:\n",
    "    point = Point(item[0],item[1])\n",
    "    newX.append(point)\n",
    "X = newX\n",
    "X"
   ]
  },
  {
   "cell_type": "code",
   "execution_count": 425,
   "metadata": {},
   "outputs": [],
   "source": [
    "import matplotlib.pyplot as plt\n",
    "from numpy.random import rand\n",
    "from numpy import sqrt\n",
    "def regionQuery(Point, epsilon, X):\n",
    "    neighbourPts = []\n",
    "    for point in X:\n",
    "        cp = Point.toArray()\n",
    "        p = point.toArray()\n",
    "        if sqrt((cp[0] - p[0])**2 + (cp[1] - p[1])**2)<epsilon:\n",
    "            neighbourPts.append(point)\n",
    "    return neighbourPts\n"
   ]
  },
  {
   "cell_type": "code",
   "execution_count": 426,
   "metadata": {},
   "outputs": [
    {
     "data": {
      "text/plain": [
       "[<__main__.Point at 0x111f12198>,\n",
       " <__main__.Point at 0x111f12780>,\n",
       " <__main__.Point at 0x1116d5a20>,\n",
       " <__main__.Point at 0x11b86dba8>,\n",
       " <__main__.Point at 0x11b86ddd8>,\n",
       " <__main__.Point at 0x11b86d320>,\n",
       " <__main__.Point at 0x11b86dd68>,\n",
       " <__main__.Point at 0x11b86d400>,\n",
       " <__main__.Point at 0x11b86dfd0>,\n",
       " <__main__.Point at 0x11b86dc88>,\n",
       " <__main__.Point at 0x11b86da90>,\n",
       " <__main__.Point at 0x1122d6860>,\n",
       " <__main__.Point at 0x1122d6f60>,\n",
       " <__main__.Point at 0x1122d6470>,\n",
       " <__main__.Point at 0x1122d67f0>,\n",
       " <__main__.Point at 0x1122d68d0>,\n",
       " <__main__.Point at 0x1122d6160>,\n",
       " <__main__.Point at 0x1122d6518>,\n",
       " <__main__.Point at 0x1122d60f0>]"
      ]
     },
     "execution_count": 426,
     "metadata": {},
     "output_type": "execute_result"
    }
   ],
   "source": [
    "regionQuery(X[40], 2, X)"
   ]
  },
  {
   "cell_type": "code",
   "execution_count": 419,
   "metadata": {},
   "outputs": [
    {
     "name": "stdout",
     "output_type": "stream",
     "text": [
      "[1, 2]\n",
      "[3, 4]\n"
     ]
    }
   ],
   "source": [
    "class Point:\n",
    "    def __init__(self,x,y):\n",
    "        self.x=x\n",
    "        self.y=y\n",
    "    def toArray(self):\n",
    "        return [self.x,self.y]\n",
    "    def set_core_point(self):\n",
    "        self.core_point=True\n",
    "    def get_core_point(self):\n",
    "        return self.core_point\n",
    "    def set_reachable_point(self):\n",
    "        self.reachable_point=True\n",
    "    def get_reachable_point(self):\n",
    "        return self.reachable_point\n",
    "\n",
    "class Cluster:\n",
    "    points = []\n",
    "    clusterCount = 0\n",
    "    def __init__(self,cn):\n",
    "        self.cn = cn\n",
    "        self.points = []\n",
    "        self.clusterCount +=1\n",
    "        self.core_point = False\n",
    "        self.reachable_point = False\n",
    "    def get_cluster(self):\n",
    "        return \"cluster\"+self.cn\n",
    "    def add_point(self,pt):\n",
    "        self.points.append(pt)\n",
    "    def get_point_count(self):\n",
    "        return len(points)\n",
    "    def get_points(self):\n",
    "        return self.points\n",
    "    def has(self,point):\n",
    "        return point in self.points\n",
    "    def __str__(self):\n",
    "        return \"Cluster %s: %d points\" % (self.cn, len(self.points))\n",
    "point1 = Point(1,2)\n",
    "point2 = Point(3,4)\n",
    "c = Cluster(\"1\")\n",
    "c.add_point(point1)\n",
    "c.add_point(point2)\n",
    "for p in c.get_points():\n",
    "    print(p.toArray())"
   ]
  },
  {
   "cell_type": "code",
   "execution_count": 481,
   "metadata": {},
   "outputs": [],
   "source": [
    "def expandCluster(P, neighbourPoints, allClusters, cluster, epsilon, m, X, visited, available):\n",
    "    if P not in (c for c in allClusters):\n",
    "        cluster.add_point(P)\n",
    "    for point in neighbourPoints:\n",
    "        if point not in visited:\n",
    "            visited.append(point)\n",
    "            neighbourPts_2 = regionQuery(point, epsilon, X)\n",
    "            if len(neighbourPts_2) >= m:\n",
    "                for p in neighbourPts_2:\n",
    "                    if p not in (c for c in allClusters):\n",
    "                        cluster.add_point(p)\n",
    "                    visited.append(p)\n",
    "                neighbourPoints+=neighbourPts_2\n",
    "        if point not in (c for c in allClusters):\n",
    "            cluster.add_point(point)"
   ]
  },
  {
   "cell_type": "code",
   "execution_count": 484,
   "metadata": {},
   "outputs": [],
   "source": [
    "def DBSCAN(X, epsilon, m):\n",
    "    outliers = []\n",
    "    visited = []\n",
    "    reachablePoints = []\n",
    "    allClusters = []\n",
    "    cn = -1\n",
    "    for point in X:\n",
    "        if point not in visited:\n",
    "            visited.append(point)\n",
    "            neighbourPoints = regionQuery(point, epsilon, X)\n",
    "        if len(neighbourPoints) < m:\n",
    "            outliers.append(point)\n",
    "        else:\n",
    "            if point not in (c for c in allClusters):\n",
    "                cn+=1\n",
    "                cluster = Cluster(cn)\n",
    "                allClusters.append(cluster)\n",
    "                expandCluster(point, neighbourPoints, allClusters, cluster, epsilon, m, X, visited)\n",
    "    print(\"Number of clusters: \", len(allClusters)\n",
    "    for cluster in allClusters:\n",
    "        cluster.__str__()\n",
    "    cmap = plt.cm.get_cmap('gist_ncar', len(allClusters))\n",
    "    print (\"number of outliers:\", len(outliers))\n",
    "    for i in range(len(allClusters)):\n",
    "        print(allClusters[i])\n",
    "        cluster = allClusters[i]\n",
    "        clusterPoints = cluster.get_points()\n",
    "        for point in clusterPoints:\n",
    "            p = point.toArray()\n",
    "            plt.scatter(p[0],p[1],color = cmap(i))\n",
    "    plt.show()\n"
   ]
  },
  {
   "cell_type": "code",
   "execution_count": 485,
   "metadata": {},
   "outputs": [
    {
     "ename": "NameError",
     "evalue": "name 'available' is not defined",
     "output_type": "error",
     "traceback": [
      "\u001b[0;31m---------------------------------------------------------------------------\u001b[0m",
      "\u001b[0;31mNameError\u001b[0m                                 Traceback (most recent call last)",
      "\u001b[0;32m<ipython-input-485-174978187fb4>\u001b[0m in \u001b[0;36m<module>\u001b[0;34m()\u001b[0m\n\u001b[0;32m----> 1\u001b[0;31m \u001b[0mDBSCAN\u001b[0m\u001b[0;34m(\u001b[0m\u001b[0mnewX\u001b[0m\u001b[0;34m,\u001b[0m\u001b[0;36m0.6\u001b[0m\u001b[0;34m,\u001b[0m\u001b[0;36m3\u001b[0m\u001b[0;34m)\u001b[0m\u001b[0;34m\u001b[0m\u001b[0m\n\u001b[0m",
      "\u001b[0;32m<ipython-input-484-2c9302e272da>\u001b[0m in \u001b[0;36mDBSCAN\u001b[0;34m(X, epsilon, m)\u001b[0m\n\u001b[1;32m     16\u001b[0m                 \u001b[0mcluster\u001b[0m \u001b[0;34m=\u001b[0m \u001b[0mCluster\u001b[0m\u001b[0;34m(\u001b[0m\u001b[0mcn\u001b[0m\u001b[0;34m)\u001b[0m\u001b[0;34m\u001b[0m\u001b[0m\n\u001b[1;32m     17\u001b[0m                 \u001b[0mallClusters\u001b[0m\u001b[0;34m.\u001b[0m\u001b[0mappend\u001b[0m\u001b[0;34m(\u001b[0m\u001b[0mcluster\u001b[0m\u001b[0;34m)\u001b[0m\u001b[0;34m\u001b[0m\u001b[0m\n\u001b[0;32m---> 18\u001b[0;31m                 \u001b[0mexpandCluster\u001b[0m\u001b[0;34m(\u001b[0m\u001b[0mpoint\u001b[0m\u001b[0;34m,\u001b[0m \u001b[0mneighbourPoints\u001b[0m\u001b[0;34m,\u001b[0m \u001b[0mallClusters\u001b[0m\u001b[0;34m,\u001b[0m \u001b[0mcluster\u001b[0m\u001b[0;34m,\u001b[0m \u001b[0mepsilon\u001b[0m\u001b[0;34m,\u001b[0m \u001b[0mm\u001b[0m\u001b[0;34m,\u001b[0m \u001b[0mX\u001b[0m\u001b[0;34m,\u001b[0m \u001b[0mvisited\u001b[0m\u001b[0;34m,\u001b[0m \u001b[0mavailable\u001b[0m\u001b[0;34m)\u001b[0m\u001b[0;34m\u001b[0m\u001b[0m\n\u001b[0m\u001b[1;32m     19\u001b[0m     \u001b[0mprint\u001b[0m\u001b[0;34m(\u001b[0m\u001b[0;34m\"Number of clusters: \"\u001b[0m\u001b[0;34m,\u001b[0m \u001b[0mlen\u001b[0m\u001b[0;34m(\u001b[0m\u001b[0mallClusters\u001b[0m\u001b[0;34m)\u001b[0m\u001b[0;34m)\u001b[0m\u001b[0;34m\u001b[0m\u001b[0m\n\u001b[1;32m     20\u001b[0m     \u001b[0;32mfor\u001b[0m \u001b[0mcluster\u001b[0m \u001b[0;32min\u001b[0m \u001b[0mallClusters\u001b[0m\u001b[0;34m:\u001b[0m\u001b[0;34m\u001b[0m\u001b[0m\n",
      "\u001b[0;31mNameError\u001b[0m: name 'available' is not defined"
     ]
    }
   ],
   "source": [
    "DBSCAN(newX,0.6,3)"
   ]
  },
  {
   "cell_type": "code",
   "execution_count": null,
   "metadata": {},
   "outputs": [],
   "source": []
  },
  {
   "cell_type": "code",
   "execution_count": null,
   "metadata": {},
   "outputs": [],
   "source": []
  },
  {
   "cell_type": "code",
   "execution_count": null,
   "metadata": {},
   "outputs": [],
   "source": []
  }
 ],
 "metadata": {
  "kernelspec": {
   "display_name": "Python 3",
   "language": "python",
   "name": "python3"
  },
  "language_info": {
   "codemirror_mode": {
    "name": "ipython",
    "version": 3
   },
   "file_extension": ".py",
   "mimetype": "text/x-python",
   "name": "python",
   "nbconvert_exporter": "python",
   "pygments_lexer": "ipython3",
   "version": "3.6.2"
  }
 },
 "nbformat": 4,
 "nbformat_minor": 2
}
