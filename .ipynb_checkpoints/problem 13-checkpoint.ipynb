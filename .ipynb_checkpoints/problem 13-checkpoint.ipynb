{
 "cells": [
  {
   "cell_type": "code",
   "execution_count": 1138,
   "metadata": {},
   "outputs": [
    {
     "data": {
      "text/plain": [
       "array([[  3.6  ,  79.   ],\n",
       "       [  1.8  ,  54.   ],\n",
       "       [  2.283,  62.   ],\n",
       "       [  3.333,  74.   ],\n",
       "       [  2.883,  55.   ],\n",
       "       [  4.533,  85.   ],\n",
       "       [  1.95 ,  51.   ],\n",
       "       [  1.833,  54.   ],\n",
       "       [  4.7  ,  88.   ],\n",
       "       [  3.6  ,  85.   ],\n",
       "       [  1.6  ,  52.   ],\n",
       "       [  4.35 ,  85.   ],\n",
       "       [  3.917,  84.   ],\n",
       "       [  4.2  ,  78.   ],\n",
       "       [  1.75 ,  62.   ],\n",
       "       [  1.8  ,  51.   ],\n",
       "       [  4.7  ,  83.   ],\n",
       "       [  2.167,  52.   ],\n",
       "       [  4.8  ,  84.   ],\n",
       "       [  1.75 ,  47.   ]])"
      ]
     },
     "execution_count": 1138,
     "metadata": {},
     "output_type": "execute_result"
    }
   ],
   "source": [
    "import numpy as np\n",
    "import pandas as pd\n",
    "import random as rand\n",
    "import matplotlib.pyplot as plt\n",
    "from scipy.stats import norm\n",
    "#x is duration, y is wait\n",
    "df = pd.DataFrame({\"\"\n",
    "    'x': [3.6,1.8,2.283,3.333,2.883,4.533,1.95,1.833,4.7,3.6,1.6,4.35,3.917,4.2,1.75,1.8,4.7,2.167,4.8,1.75],\n",
    "    'y': [79,54,62,74,55,85,51,54,88,85,52,85,84,78,62,51,83,52,84,47]\n",
    "})\n",
    "X = df.as_matrix()\n",
    "X"
   ]
  },
  {
   "cell_type": "code",
   "execution_count": 1139,
   "metadata": {},
   "outputs": [
    {
     "name": "stdout",
     "output_type": "stream",
     "text": [
      "theta : [{'mu': [2.5, 65], 'S': [[1, 5], [5, 100]]}, {'mu': [3.5, 70], 'S': [[2, 10], [10, 200]]}]\n",
      "0.00619949284268\n"
     ]
    }
   ],
   "source": [
    "from numpy.linalg import inv, det\n",
    "from numpy import *\n",
    "tau = [0.25,0.75]\n",
    "theta = []\n",
    "mu1 = [2.5,65]\n",
    "S1 = [[1,5],[5,100]]\n",
    "mu2 = [3.5,70]\n",
    "S2 = [[2,10],[10,200]]\n",
    "theta1 = {}\n",
    "theta2 = {}\n",
    "theta1['mu'] = mu1\n",
    "theta1['S'] = S1\n",
    "theta2['mu'] = mu2\n",
    "theta2['S'] = S2\n",
    "theta.append(theta1)\n",
    "theta.append(theta2)\n",
    "print(\"theta :\",theta)\n",
    "def f(X,thetaArg):\n",
    "    S = array(thetaArg['S'])\n",
    "    mu = array(thetaArg['mu'])\n",
    "    X = array(X)\n",
    "    left = 1/( 2 * pi * sqrt(det(S)) )\n",
    "#     right = exp(-0.5 * np.transpose(X-mu) * inv(S) * array(X-mu))\n",
    "    right = exp(-0.5 * np.dot(np.transpose(X-mu),inv(S)).dot(X-mu))\n",
    "    f = left * right\n",
    "    return f\n",
    "print( f(X[0],theta[0]) )"
   ]
  },
  {
   "cell_type": "code",
   "execution_count": 1140,
   "metadata": {},
   "outputs": [
    {
     "data": {
      "text/plain": [
       "[{'S': [[1, 5], [5, 100]], 'mu': [2.5, 65]},\n",
       " {'S': [[2, 10], [10, 200]], 'mu': [3.5, 70]}]"
      ]
     },
     "execution_count": 1140,
     "metadata": {},
     "output_type": "execute_result"
    }
   ],
   "source": [
    "p = np.empty(shape=[2,20], dtype = object) \n",
    "p[1,2] = 2\n",
    "p[1,5] = 56\n",
    "p\n",
    "theta"
   ]
  },
  {
   "cell_type": "code",
   "execution_count": 1141,
   "metadata": {},
   "outputs": [],
   "source": [
    "def expectation(tau,thetaArg):\n",
    "    for j in range(0,2):\n",
    "        for i in range(len(X)):\n",
    "            num = tau[j]*f(X[i],thetaArg[j])\n",
    "            denom = (tau[0]*f(X[i],thetaArg[0]) + tau[1]*f(X[i],thetaArg[1]))\n",
    "            p[j,i] = num/denom\n",
    "    return p"
   ]
  },
  {
   "cell_type": "code",
   "execution_count": 1142,
   "metadata": {},
   "outputs": [
    {
     "data": {
      "text/plain": [
       "array([[0.56347540236402549, 0.80037061052727543, 0.80738635346859122,\n",
       "        0.66389847247984946, 0.65638281061435422, 0.26432986026209565,\n",
       "        0.75512072232588878, 0.79819471727056412, 0.19133054549297421,\n",
       "        0.44899774291699435, 0.79499133282400758, 0.30635387317938517,\n",
       "        0.41700411341629545, 0.42766416635227805, 0.82936198749964929,\n",
       "        0.77005331741918659, 0.24513662865802777, 0.74252156697541882,\n",
       "        0.21225472245248195, 0.71220395844374029],\n",
       "       [0.43652459763597445, 0.19962938947272449, 0.19261364653140875,\n",
       "        0.33610152752015054, 0.34361718938564573, 0.7356701397379044,\n",
       "        0.24487927767411127, 0.20180528272943593, 0.80866945450702588,\n",
       "        0.55100225708300565, 0.20500866717599248, 0.69364612682061488,\n",
       "        0.58299588658370449, 0.572335833647722, 0.17063801250035074,\n",
       "        0.22994668258081336, 0.75486337134197223, 0.25747843302458112,\n",
       "        0.78774527754751811, 0.28779604155625965]], dtype=object)"
      ]
     },
     "execution_count": 1142,
     "metadata": {},
     "output_type": "execute_result"
    }
   ],
   "source": [
    "expectation([0.6,0.4],theta)"
   ]
  },
  {
   "cell_type": "code",
   "execution_count": 1143,
   "metadata": {},
   "outputs": [],
   "source": [
    "tau = [0.6,0.4]\n",
    "def maximization(p):\n",
    "    global tau\n",
    "    mu = [empty,empty]\n",
    "    theta = [empty,empty]\n",
    "    S = [empty,empty]\n",
    "    for j in range(0,2):\n",
    "        tau[j] = 1/20 * p[j].sum()\n",
    "        sum1 = 0\n",
    "        sum2 = 0\n",
    "        for i in range(0,20):\n",
    "            sum1 += (p[j,i] * X[i])\n",
    "        mu[j] = sum1 / p[j].sum()\n",
    "        for i in range(0,20):\n",
    "            sum2 += p[j,i] * (X[i] - mu[j]) * np.transpose(X[i] - mu[j])\n",
    "        S[j] = sum2 / p[j].sum()\n",
    "    newTheta1 = {}\n",
    "    newTheta2 = {}\n",
    "    newTheta1['mu'] = mu[0]\n",
    "    newTheta1['S'] = S[0]\n",
    "    newTheta2['mu'] = mu[1]\n",
    "    newTheta2['S'] = S[1]\n",
    "    theta[0] = newTheta1\n",
    "    theta[1] = newTheta2\n",
    "    print(\"Tau and theta after maximization\")\n",
    "    print(\"tau :\", tau)\n",
    "    print(\"theta :\", theta)\n",
    "    return tau, theta"
   ]
  },
  {
   "cell_type": "code",
   "execution_count": null,
   "metadata": {},
   "outputs": [],
   "source": []
  },
  {
   "cell_type": "code",
   "execution_count": 1144,
   "metadata": {},
   "outputs": [
    {
     "name": "stdout",
     "output_type": "stream",
     "text": [
      "Tau and theta after maximization\n",
      "tau : [0.57035164524715432, 0.4296483547528458]\n",
      "theta : [{'mu': array([  2.62689357,  63.01595366]), 'S': array([   1.05482415,  181.51832899])}, {'mu': array([  3.6755568 ,  75.19811678]), 'S': array([   1.21185404,  189.20462815])}]\n"
     ]
    },
    {
     "ename": "LinAlgError",
     "evalue": "1-dimensional array given. Array must be at least two-dimensional",
     "output_type": "error",
     "traceback": [
      "\u001b[0;31m---------------------------------------------------------------------------\u001b[0m",
      "\u001b[0;31mLinAlgError\u001b[0m                               Traceback (most recent call last)",
      "\u001b[0;32m<ipython-input-1144-982e37ae0317>\u001b[0m in \u001b[0;36m<module>\u001b[0;34m()\u001b[0m\n\u001b[1;32m      1\u001b[0m \u001b[0;32mfor\u001b[0m \u001b[0mi\u001b[0m \u001b[0;32min\u001b[0m \u001b[0mrange\u001b[0m\u001b[0;34m(\u001b[0m\u001b[0;36m20\u001b[0m\u001b[0;34m)\u001b[0m\u001b[0;34m:\u001b[0m\u001b[0;34m\u001b[0m\u001b[0m\n\u001b[0;32m----> 2\u001b[0;31m     \u001b[0mp\u001b[0m \u001b[0;34m=\u001b[0m \u001b[0mexpectation\u001b[0m\u001b[0;34m(\u001b[0m\u001b[0mtau\u001b[0m\u001b[0;34m,\u001b[0m\u001b[0mtheta\u001b[0m\u001b[0;34m)\u001b[0m\u001b[0;34m\u001b[0m\u001b[0m\n\u001b[0m\u001b[1;32m      3\u001b[0m     \u001b[0mtau\u001b[0m\u001b[0;34m,\u001b[0m\u001b[0mtheta\u001b[0m \u001b[0;34m=\u001b[0m \u001b[0mmaximization\u001b[0m\u001b[0;34m(\u001b[0m\u001b[0mp\u001b[0m\u001b[0;34m)\u001b[0m\u001b[0;34m\u001b[0m\u001b[0m\n",
      "\u001b[0;32m<ipython-input-1141-9e9300db94ca>\u001b[0m in \u001b[0;36mexpectation\u001b[0;34m(tau, thetaArg)\u001b[0m\n\u001b[1;32m      2\u001b[0m     \u001b[0;32mfor\u001b[0m \u001b[0mj\u001b[0m \u001b[0;32min\u001b[0m \u001b[0mrange\u001b[0m\u001b[0;34m(\u001b[0m\u001b[0;36m0\u001b[0m\u001b[0;34m,\u001b[0m\u001b[0;36m2\u001b[0m\u001b[0;34m)\u001b[0m\u001b[0;34m:\u001b[0m\u001b[0;34m\u001b[0m\u001b[0m\n\u001b[1;32m      3\u001b[0m         \u001b[0;32mfor\u001b[0m \u001b[0mi\u001b[0m \u001b[0;32min\u001b[0m \u001b[0mrange\u001b[0m\u001b[0;34m(\u001b[0m\u001b[0mlen\u001b[0m\u001b[0;34m(\u001b[0m\u001b[0mX\u001b[0m\u001b[0;34m)\u001b[0m\u001b[0;34m)\u001b[0m\u001b[0;34m:\u001b[0m\u001b[0;34m\u001b[0m\u001b[0m\n\u001b[0;32m----> 4\u001b[0;31m             \u001b[0mnum\u001b[0m \u001b[0;34m=\u001b[0m \u001b[0mtau\u001b[0m\u001b[0;34m[\u001b[0m\u001b[0mj\u001b[0m\u001b[0;34m]\u001b[0m\u001b[0;34m*\u001b[0m\u001b[0mf\u001b[0m\u001b[0;34m(\u001b[0m\u001b[0mX\u001b[0m\u001b[0;34m[\u001b[0m\u001b[0mi\u001b[0m\u001b[0;34m]\u001b[0m\u001b[0;34m,\u001b[0m\u001b[0mthetaArg\u001b[0m\u001b[0;34m[\u001b[0m\u001b[0mj\u001b[0m\u001b[0;34m]\u001b[0m\u001b[0;34m)\u001b[0m\u001b[0;34m\u001b[0m\u001b[0m\n\u001b[0m\u001b[1;32m      5\u001b[0m             \u001b[0mdenom\u001b[0m \u001b[0;34m=\u001b[0m \u001b[0;34m(\u001b[0m\u001b[0mtau\u001b[0m\u001b[0;34m[\u001b[0m\u001b[0;36m0\u001b[0m\u001b[0;34m]\u001b[0m\u001b[0;34m*\u001b[0m\u001b[0mf\u001b[0m\u001b[0;34m(\u001b[0m\u001b[0mX\u001b[0m\u001b[0;34m[\u001b[0m\u001b[0mi\u001b[0m\u001b[0;34m]\u001b[0m\u001b[0;34m,\u001b[0m\u001b[0mthetaArg\u001b[0m\u001b[0;34m[\u001b[0m\u001b[0;36m0\u001b[0m\u001b[0;34m]\u001b[0m\u001b[0;34m)\u001b[0m \u001b[0;34m+\u001b[0m \u001b[0mtau\u001b[0m\u001b[0;34m[\u001b[0m\u001b[0;36m1\u001b[0m\u001b[0;34m]\u001b[0m\u001b[0;34m*\u001b[0m\u001b[0mf\u001b[0m\u001b[0;34m(\u001b[0m\u001b[0mX\u001b[0m\u001b[0;34m[\u001b[0m\u001b[0mi\u001b[0m\u001b[0;34m]\u001b[0m\u001b[0;34m,\u001b[0m\u001b[0mthetaArg\u001b[0m\u001b[0;34m[\u001b[0m\u001b[0;36m1\u001b[0m\u001b[0;34m]\u001b[0m\u001b[0;34m)\u001b[0m\u001b[0;34m)\u001b[0m\u001b[0;34m\u001b[0m\u001b[0m\n\u001b[1;32m      6\u001b[0m             \u001b[0mp\u001b[0m\u001b[0;34m[\u001b[0m\u001b[0mj\u001b[0m\u001b[0;34m,\u001b[0m\u001b[0mi\u001b[0m\u001b[0;34m]\u001b[0m \u001b[0;34m=\u001b[0m \u001b[0mnum\u001b[0m\u001b[0;34m/\u001b[0m\u001b[0mdenom\u001b[0m\u001b[0;34m\u001b[0m\u001b[0m\n",
      "\u001b[0;32m<ipython-input-1139-d403c3a3d26b>\u001b[0m in \u001b[0;36mf\u001b[0;34m(X, thetaArg)\u001b[0m\n\u001b[1;32m     20\u001b[0m     \u001b[0mmu\u001b[0m \u001b[0;34m=\u001b[0m \u001b[0marray\u001b[0m\u001b[0;34m(\u001b[0m\u001b[0mthetaArg\u001b[0m\u001b[0;34m[\u001b[0m\u001b[0;34m'mu'\u001b[0m\u001b[0;34m]\u001b[0m\u001b[0;34m)\u001b[0m\u001b[0;34m\u001b[0m\u001b[0m\n\u001b[1;32m     21\u001b[0m     \u001b[0mX\u001b[0m \u001b[0;34m=\u001b[0m \u001b[0marray\u001b[0m\u001b[0;34m(\u001b[0m\u001b[0mX\u001b[0m\u001b[0;34m)\u001b[0m\u001b[0;34m\u001b[0m\u001b[0m\n\u001b[0;32m---> 22\u001b[0;31m     \u001b[0mleft\u001b[0m \u001b[0;34m=\u001b[0m \u001b[0;36m1\u001b[0m\u001b[0;34m/\u001b[0m\u001b[0;34m(\u001b[0m \u001b[0;36m2\u001b[0m \u001b[0;34m*\u001b[0m \u001b[0mpi\u001b[0m \u001b[0;34m*\u001b[0m \u001b[0msqrt\u001b[0m\u001b[0;34m(\u001b[0m\u001b[0mdet\u001b[0m\u001b[0;34m(\u001b[0m\u001b[0mS\u001b[0m\u001b[0;34m)\u001b[0m\u001b[0;34m)\u001b[0m \u001b[0;34m)\u001b[0m\u001b[0;34m\u001b[0m\u001b[0m\n\u001b[0m\u001b[1;32m     23\u001b[0m \u001b[0;31m#     right = exp(-0.5 * np.transpose(X-mu) * inv(S) * array(X-mu))\u001b[0m\u001b[0;34m\u001b[0m\u001b[0;34m\u001b[0m\u001b[0m\n\u001b[1;32m     24\u001b[0m     \u001b[0mright\u001b[0m \u001b[0;34m=\u001b[0m \u001b[0mexp\u001b[0m\u001b[0;34m(\u001b[0m\u001b[0;34m-\u001b[0m\u001b[0;36m0.5\u001b[0m \u001b[0;34m*\u001b[0m \u001b[0mnp\u001b[0m\u001b[0;34m.\u001b[0m\u001b[0mdot\u001b[0m\u001b[0;34m(\u001b[0m\u001b[0mnp\u001b[0m\u001b[0;34m.\u001b[0m\u001b[0mtranspose\u001b[0m\u001b[0;34m(\u001b[0m\u001b[0mX\u001b[0m\u001b[0;34m-\u001b[0m\u001b[0mmu\u001b[0m\u001b[0;34m)\u001b[0m\u001b[0;34m,\u001b[0m\u001b[0minv\u001b[0m\u001b[0;34m(\u001b[0m\u001b[0mS\u001b[0m\u001b[0;34m)\u001b[0m\u001b[0;34m)\u001b[0m\u001b[0;34m.\u001b[0m\u001b[0mdot\u001b[0m\u001b[0;34m(\u001b[0m\u001b[0mX\u001b[0m\u001b[0;34m-\u001b[0m\u001b[0mmu\u001b[0m\u001b[0;34m)\u001b[0m\u001b[0;34m)\u001b[0m\u001b[0;34m\u001b[0m\u001b[0m\n",
      "\u001b[0;32m/Library/Frameworks/Python.framework/Versions/3.6/lib/python3.6/site-packages/numpy/linalg/linalg.py\u001b[0m in \u001b[0;36mdet\u001b[0;34m(a)\u001b[0m\n\u001b[1;32m   1798\u001b[0m     \"\"\"\n\u001b[1;32m   1799\u001b[0m     \u001b[0ma\u001b[0m \u001b[0;34m=\u001b[0m \u001b[0masarray\u001b[0m\u001b[0;34m(\u001b[0m\u001b[0ma\u001b[0m\u001b[0;34m)\u001b[0m\u001b[0;34m\u001b[0m\u001b[0m\n\u001b[0;32m-> 1800\u001b[0;31m     \u001b[0m_assertRankAtLeast2\u001b[0m\u001b[0;34m(\u001b[0m\u001b[0ma\u001b[0m\u001b[0;34m)\u001b[0m\u001b[0;34m\u001b[0m\u001b[0m\n\u001b[0m\u001b[1;32m   1801\u001b[0m     \u001b[0m_assertNdSquareness\u001b[0m\u001b[0;34m(\u001b[0m\u001b[0ma\u001b[0m\u001b[0;34m)\u001b[0m\u001b[0;34m\u001b[0m\u001b[0m\n\u001b[1;32m   1802\u001b[0m     \u001b[0mt\u001b[0m\u001b[0;34m,\u001b[0m \u001b[0mresult_t\u001b[0m \u001b[0;34m=\u001b[0m \u001b[0m_commonType\u001b[0m\u001b[0;34m(\u001b[0m\u001b[0ma\u001b[0m\u001b[0;34m)\u001b[0m\u001b[0;34m\u001b[0m\u001b[0m\n",
      "\u001b[0;32m/Library/Frameworks/Python.framework/Versions/3.6/lib/python3.6/site-packages/numpy/linalg/linalg.py\u001b[0m in \u001b[0;36m_assertRankAtLeast2\u001b[0;34m(*arrays)\u001b[0m\n\u001b[1;32m    200\u001b[0m         \u001b[0;32mif\u001b[0m \u001b[0ma\u001b[0m\u001b[0;34m.\u001b[0m\u001b[0mndim\u001b[0m \u001b[0;34m<\u001b[0m \u001b[0;36m2\u001b[0m\u001b[0;34m:\u001b[0m\u001b[0;34m\u001b[0m\u001b[0m\n\u001b[1;32m    201\u001b[0m             raise LinAlgError('%d-dimensional array given. Array must be '\n\u001b[0;32m--> 202\u001b[0;31m                     'at least two-dimensional' % a.ndim)\n\u001b[0m\u001b[1;32m    203\u001b[0m \u001b[0;34m\u001b[0m\u001b[0m\n\u001b[1;32m    204\u001b[0m \u001b[0;32mdef\u001b[0m \u001b[0m_assertSquareness\u001b[0m\u001b[0;34m(\u001b[0m\u001b[0;34m*\u001b[0m\u001b[0marrays\u001b[0m\u001b[0;34m)\u001b[0m\u001b[0;34m:\u001b[0m\u001b[0;34m\u001b[0m\u001b[0m\n",
      "\u001b[0;31mLinAlgError\u001b[0m: 1-dimensional array given. Array must be at least two-dimensional"
     ]
    }
   ],
   "source": [
    "for i in range(20):\n",
    "    p = expectation(tau,theta)\n",
    "    tau,theta = maximization(p)"
   ]
  },
  {
   "cell_type": "code",
   "execution_count": null,
   "metadata": {},
   "outputs": [],
   "source": []
  }
 ],
 "metadata": {
  "kernelspec": {
   "display_name": "Python 3",
   "language": "python",
   "name": "python3"
  },
  "language_info": {
   "codemirror_mode": {
    "name": "ipython",
    "version": 3
   },
   "file_extension": ".py",
   "mimetype": "text/x-python",
   "name": "python",
   "nbconvert_exporter": "python",
   "pygments_lexer": "ipython3",
   "version": "3.6.2"
  }
 },
 "nbformat": 4,
 "nbformat_minor": 2
}
