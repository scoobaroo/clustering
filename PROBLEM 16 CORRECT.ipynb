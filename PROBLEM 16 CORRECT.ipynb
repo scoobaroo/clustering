{
 "cells": [
  {
   "cell_type": "code",
   "execution_count": 84,
   "metadata": {},
   "outputs": [],
   "source": [
    "from numpy import *\n",
    "import matplotlib.pyplot as plt\n",
    "X = [\n",
    "        [1.0,5.0],[1.25,5.35],[1.25,5.75],[1.5,6.25],[1.75,6.75],[2.0,6.5],[3.0,7.75],[3.5,8.25],[3.75,8.75],[3.95,9.1],\n",
    "        [4.0,8.5],[2.5,7.25],[2.25,7.75],[2.0,6.5],[2.75,8.25],[4.5,8.9],[9.0,5.0],[8.75,5.85],[9.0,6.25],\n",
    "        [8.0,7.0],[8.5,6.25],[8.5,6.75],[8.25,7.65],[7.0,8.25],[6.0,8.75],[5.5,8.25],[5.25,8.75],[4.9,8.75],\n",
    "        [5.0,8.5],[7.5,7.75],[7.75,8.25],[6.75,8.0],[6.25,8.25],[4.5,8.9],[5.0,1.0],[1.25,4.65],[1.25,4.25],\n",
    "        [1.5,3.75],[1.75,3.25],[2.0,3.5],[3.0,2.25],[3.5,1.75],[3.75,8.75],[3.95,0.9],[4.0,1.5],[2.5,2.75],\n",
    "        [2.25,2.25],[2.0,3.5],[2.75,1.75],[4.5,1.1],[5.0,9.0],[8.75,5.15],[8.0,2.25],[8.25,3.0],[8.5,4.75],\n",
    "        [8.5,4.25],[8.25,3.35],[7.0,1.75],[8.0,3.5],[6.0,1.25],[5.5,1.75],[5.25,1.25],[4.9,1.25],[5.0,1.5],\n",
    "        [7.5,2.25],[7.75,2.75],[6.75,2.0],[6.25,1.75],[4.5,1.1],[3.0,4.5],[7.0,4.5],[5.0,3.0],[4.0,3.35],\n",
    "        [6.0,3.35],[4.25,3.25],[5.75,3.25],[3.5,3.75],[6.5,3.75],[3.25,4.0],[6.75,4.0],[3.75,3.55],[6.25,3.55],\n",
    "        [4.75,3.05],[5.25,3.05],[4.5,3.15],[5.5,3.15],[4.0,6.5],[4.0,6.75],[4.0,6.25],[3.75,6.5],[4.25,6.5],[4.25,6.75],\n",
    "        [3.75,6.25],[6.0,6.5],[6.0,6.75],[6.0,6.25],[5.75,6.75],[5.75,6.25],[6.25,6.75],[6.25,6.25],[9.5,9.5],[2.5,9.5],[1.0,8.0]\n",
    "    ]"
   ]
  },
  {
   "cell_type": "code",
   "execution_count": 103,
   "metadata": {},
   "outputs": [],
   "source": [
    "def DBSCAN(X, epsilon, m):\n",
    "    C = []\n",
    "    cn = -1\n",
    "    visited = []\n",
    "    outliers = []\n",
    "    for point in X:\n",
    "        if point not in visited:\n",
    "            visited.append(point)\n",
    "            neighbors = regionQuery(point,epsilon,X)\n",
    "            if(len(neighbors) < m):\n",
    "                outliers.append(point)\n",
    "            else:\n",
    "                C.append([])\n",
    "                cn += 1\n",
    "                expandCluster(point, neighbors, cn, C, epsilon, m, visited)\n",
    "    print(\"Number of clusters: \", len(C))\n",
    "    print(\"Number of outliers: \", len(outliers))\n",
    "    cmap = plt.cm.get_cmap('gist_ncar', len(C))\n",
    "    count = 0\n",
    "    for i in range(0,len(C)):\n",
    "        print(\"Cluster\",i,\":\", len(C[i]), \" points\")\n",
    "        cluster = C[i]\n",
    "        for point in cluster:\n",
    "            count += 1\n",
    "            plt.scatter(point[0],point[1],color = cmap(i))\n",
    "    plt.show()\n",
    "    print(count,\" points counted\")\n",
    "    "
   ]
  },
  {
   "cell_type": "code",
   "execution_count": 104,
   "metadata": {},
   "outputs": [],
   "source": [
    "def expandCluster(point, neighbors, cn, C, eps, m, visited):\n",
    "    if point not in (cluster for cluster in C):\n",
    "        C[cn].append(point)\n",
    "    for p in neighbors:\n",
    "        if p not in visited:\n",
    "            visited.append(p)\n",
    "            neighbors2 = regionQuery(p, eps, X)\n",
    "            if len(neighbors2) >= m:\n",
    "                neighbors += neighbors2\n",
    "        if p not in (cluster for cluster in C):\n",
    "            C[cn].append(p)"
   ]
  },
  {
   "cell_type": "code",
   "execution_count": 105,
   "metadata": {},
   "outputs": [],
   "source": [
    "def regionQuery(P, eps, D):\t\n",
    "    neighbourPts = []\n",
    "    for point in D:\n",
    "        if sqrt(square(P[1] - point[1]) + square(P[0] - point[0]))<eps:\n",
    "            neighbourPts.append(point)\n",
    "    return neighbourPts"
   ]
  },
  {
   "cell_type": "code",
   "execution_count": null,
   "metadata": {},
   "outputs": [],
   "source": [
    "DBSCAN(X,3,5)"
   ]
  },
  {
   "cell_type": "code",
   "execution_count": null,
   "metadata": {},
   "outputs": [],
   "source": []
  }
 ],
 "metadata": {
  "kernelspec": {
   "display_name": "Python 3",
   "language": "python",
   "name": "python3"
  },
  "language_info": {
   "codemirror_mode": {
    "name": "ipython",
    "version": 3
   },
   "file_extension": ".py",
   "mimetype": "text/x-python",
   "name": "python",
   "nbconvert_exporter": "python",
   "pygments_lexer": "ipython3",
   "version": "3.6.2"
  }
 },
 "nbformat": 4,
 "nbformat_minor": 2
}
