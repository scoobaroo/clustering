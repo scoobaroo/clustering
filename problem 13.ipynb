{
 "cells": [
  {
   "cell_type": "code",
   "execution_count": 1,
   "metadata": {},
   "outputs": [],
   "source": [
    "import numpy as np\n",
    "import pandas as pd\n",
    "import random as rand\n",
    "import matplotlib.pyplot as plt\n",
    "from scipy.stats import norm\n",
    "#x is duration, y is wait\n",
    "df = pd.DataFrame({\n",
    "    'x': [3.6,1.8,2.283,3.333,2.883,4.533,1.95,1.833,4.7,3.6,1.6,4.35,3.917,4.2,1.75,1.8,4.7,2.167,4.8,1.75],\n",
    "    'y': [79,54,62,74,55,85,51,54,88,85,52,85,84,78,62,51,83,52,84,47]\n",
    "})"
   ]
  },
  {
   "cell_type": "code",
   "execution_count": 8,
   "metadata": {},
   "outputs": [
    {
     "name": "stdout",
     "output_type": "stream",
     "text": [
      "{'mu1': [1, 1], 'sig1': [[1, 0], [0, 1]], 'mu2': [4, 4], 'sig2': [[1, 0], [0, 1]], 'lambda': [0.4, 0.6]}\n"
     ]
    }
   ],
   "source": [
    "guess = { 'mu1': [1,1],\n",
    "          'sig1': [ [1, 0], [0, 1] ],\n",
    "          'mu2': [4,4],\n",
    "          'sig2': [ [1, 0], [0, 1] ],\n",
    "          'lambda': [0.4, 0.6]\n",
    "        }\n",
    "print(guess)"
   ]
  },
  {
   "cell_type": "code",
   "execution_count": 9,
   "metadata": {},
   "outputs": [],
   "source": [
    "# assign every data point to its most likely cluster\n",
    "def expectation(dataFrame, parameters):\n",
    "  for i in range(dataFrame.shape[0]):\n",
    "    x = dataFrame['x'][i]\n",
    "    y = dataFrame['y'][i]\n",
    "    p_cluster1 = prob([x, y], list(parameters['mu1']), list(parameters['sig1']), parameters['lambda'][0] )\n",
    "    p_cluster2 = prob([x, y], list(parameters['mu2']), list(parameters['sig2']), parameters['lambda'][1] )\n",
    "    if p_cluster1 > p_cluster2:\n",
    "      dataFrame['label'][i] = 1\n",
    "    else:\n",
    "      dataFrame['label'][i] = 2\n",
    "  return dataFrame"
   ]
  },
  {
   "cell_type": "code",
   "execution_count": 10,
   "metadata": {},
   "outputs": [],
   "source": [
    "def maximization(dataFrame, parameters):\n",
    "  points_assigned_to_cluster1 = dataFrame[dataFrame['label'] == 1]\n",
    "  points_assigned_to_cluster2 = dataFrame[dataFrame['label'] == 2]\n",
    "  percent_assigned_to_cluster1 = len(points_assigned_to_cluster1) / float(len(dataFrame))\n",
    "  percent_assigned_to_cluster2 = 1 - percent_assigned_to_cluster1\n",
    "  parameters['lambda'] = [percent_assigned_to_cluster1, percent_assigned_to_cluster2 ]\n",
    "  parameters['mu1'] = [points_assigned_to_cluster1['x'].mean(), points_assigned_to_cluster1['y'].mean()]\n",
    "  parameters['mu2'] = [points_assigned_to_cluster2['x'].mean(), points_assigned_to_cluster2['y'].mean()]\n",
    "  parameters['sig1'] = [ [points_assigned_to_cluster1['x'].std(), 0 ], [ 0, points_assigned_to_cluster1['y'].std() ] ]\n",
    "  parameters['sig2'] = [ [points_assigned_to_cluster2['x'].std(), 0 ], [ 0, points_assigned_to_cluster2['y'].std() ] ]\n",
    "  return parameters"
   ]
  },
  {
   "cell_type": "code",
   "execution_count": 11,
   "metadata": {},
   "outputs": [
    {
     "name": "stderr",
     "output_type": "stream",
     "text": [
      "/Library/Frameworks/Python.framework/Versions/3.6/lib/python3.6/site-packages/ipykernel_launcher.py:11: SettingWithCopyWarning: \n",
      "A value is trying to be set on a copy of a slice from a DataFrame\n",
      "\n",
      "See the caveats in the documentation: http://pandas.pydata.org/pandas-docs/stable/indexing.html#indexing-view-versus-copy\n",
      "  # This is added back by InteractiveShellApp.init_path()\n"
     ]
    },
    {
     "name": "stdout",
     "output_type": "stream",
     "text": [
      "iteration 1, shift nan\n"
     ]
    },
    {
     "data": {
      "image/png": "[encoded data removed]",
      "text/plain": [
       "<matplotlib.figure.Figure at 0x1076d0cf8>"
      ]
     },
     "metadata": {},
     "output_type": "display_data"
    }
   ],
   "source": [
    "# probability that a point came from a Guassian with given parameters\n",
    "# note that the covariance must be diagonal for this to work\n",
    "def prob(val, mu, sig, lam):\n",
    "  p = lam\n",
    "  for i in range(len(val)):\n",
    "    p *= norm.pdf(val[i], mu[i], sig[i][i])\n",
    "  return p\n",
    "\n",
    "# get the distance between points\n",
    "# used for determining if params have converged\n",
    "def distance(old_params, new_params):\n",
    "  dist = 0\n",
    "  for param in ['mu1', 'mu2']:\n",
    "    for i in range(len(old_params)):\n",
    "      dist += (old_params[param][i] - new_params[param][i]) ** 2\n",
    "  return dist ** 0.5\n",
    "from sys import maxsize\n",
    "# loop until parameters converge\n",
    "shift = maxsize\n",
    "epsilon = 0.01\n",
    "iters = 0\n",
    "df_copy = df.copy()\n",
    "# randomly assign points to their initial clusters\n",
    "df_copy['label'] = map(lambda x: x+1, np.random.choice(2, len(df)))\n",
    "params = pd.DataFrame(guess)\n",
    "\n",
    "colmap = {1: 'r', 2: 'b', 3: 'y'}\n",
    "\n",
    "while shift > epsilon:\n",
    "  iters += 1\n",
    "  # E-step\n",
    "  updated_labels = expectation(df_copy.copy(), params)\n",
    "\n",
    "  # M-step\n",
    "  updated_parameters = maximization(updated_labels, params.copy())\n",
    "\n",
    "  # see if our estimates of mu have changed\n",
    "  # could incorporate all params, or overall log-likelihood\n",
    "  shift = distance(params, updated_parameters)\n",
    "\n",
    "  # logging\n",
    "  print(\"iteration {}, shift {}\".format(iters, shift))\n",
    "\n",
    "  # update labels and params for the next iteration\n",
    "  df_copy = updated_labels\n",
    "  params = updated_parameters\n",
    "\n",
    "  fig = plt.figure()\n",
    "  plt.scatter(df_copy['x'], df_copy['y'], 24, c=df_copy['label'])\n",
    "  plt.show()  "
   ]
  },
  {
   "cell_type": "code",
   "execution_count": null,
   "metadata": {},
   "outputs": [],
   "source": []
  }
 ],
 "metadata": {
  "kernelspec": {
   "display_name": "Python 3",
   "language": "python",
   "name": "python3"
  },
  "language_info": {
   "codemirror_mode": {
    "name": "ipython",
    "version": 3
   },
   "file_extension": ".py",
   "mimetype": "text/x-python",
   "name": "python",
   "nbconvert_exporter": "python",
   "pygments_lexer": "ipython3",
   "version": "3.6.2"
  }
 },
 "nbformat": 4,
 "nbformat_minor": 2
}
